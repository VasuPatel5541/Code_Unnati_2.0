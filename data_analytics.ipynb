{
 "cells": [
  {
   "cell_type": "code",
   "execution_count": 1,
   "id": "33f65ab5",
   "metadata": {},
   "outputs": [
    {
     "name": "stdout",
     "output_type": "stream",
     "text": [
      "1.24.3\n"
     ]
    }
   ],
   "source": [
    "#to check the version of anaconda\n",
    "import numpy as np\n",
    "print(np.__version__)"
   ]
  },
  {
   "cell_type": "code",
   "execution_count": 14,
   "id": "5a627a62",
   "metadata": {},
   "outputs": [
    {
     "name": "stdout",
     "output_type": "stream",
     "text": [
      "<class 'numpy.ndarray'>\n"
     ]
    }
   ],
   "source": [
    "#to access type of array\n",
    "import numpy as np\n",
    "arr = np.array([1,2,3,4])\n",
    "print(type(arr))"
   ]
  },
  {
   "cell_type": "code",
   "execution_count": 15,
   "id": "539077ef",
   "metadata": {},
   "outputs": [
    {
     "name": "stdout",
     "output_type": "stream",
     "text": [
      "[1 2 3 4]\n"
     ]
    }
   ],
   "source": [
    "#to access array\n",
    "import numpy as np\n",
    "arr = np.array([1,2,3,4])\n",
    "print(arr)"
   ]
  },
  {
   "cell_type": "code",
   "execution_count": 2,
   "id": "ea9d4bc5",
   "metadata": {},
   "outputs": [
    {
     "name": "stdout",
     "output_type": "stream",
     "text": [
      "int32\n"
     ]
    }
   ],
   "source": [
    "#to access datatypes of array\n",
    "import numpy as np\n",
    "arr = np.array([1,2,3,4])\n",
    "print(arr.dtype)"
   ]
  },
  {
   "cell_type": "code",
   "execution_count": 3,
   "id": "6f82bb62",
   "metadata": {},
   "outputs": [
    {
     "name": "stdout",
     "output_type": "stream",
     "text": [
      "42\n"
     ]
    }
   ],
   "source": [
    "#1-D array\n",
    "import numpy as np\n",
    "arr = np.array(42)\n",
    "print(arr)"
   ]
  },
  {
   "cell_type": "code",
   "execution_count": 6,
   "id": "05cc24fb",
   "metadata": {},
   "outputs": [
    {
     "name": "stdout",
     "output_type": "stream",
     "text": [
      "[[1 2 3]\n",
      " [4 5 6]]\n"
     ]
    }
   ],
   "source": [
    "#2-D array\n",
    "import numpy as np\n",
    "arr = np.array([[1,2,3],[4,5,6]])\n",
    "print(arr)"
   ]
  },
  {
   "cell_type": "code",
   "execution_count": 9,
   "id": "4665e95f",
   "metadata": {},
   "outputs": [
    {
     "name": "stdout",
     "output_type": "stream",
     "text": [
      "[[[ 1  2  3]\n",
      "  [ 4  5  6]]\n",
      "\n",
      " [[11 12 13]\n",
      "  [14 15 16]]]\n"
     ]
    }
   ],
   "source": [
    "#3-D array\n",
    "import numpy as np\n",
    "arr = np.array([[[1,2,3],[4,5,6]],[[11,12,13],[14,15,16]]])\n",
    "print(arr)"
   ]
  },
  {
   "cell_type": "code",
   "execution_count": 10,
   "id": "08b2e7b1",
   "metadata": {},
   "outputs": [
    {
     "name": "stdout",
     "output_type": "stream",
     "text": [
      "0\n",
      "1\n",
      "2\n",
      "3\n"
     ]
    }
   ],
   "source": [
    "import numpy as np\n",
    "a = np.array(42)\n",
    "b = np.array([1,2,3,4,5])\n",
    "c = np.array([[1,2,3],[4,5,6]])\n",
    "d = np.array([[[1,2,3],[4,5,6]],[[1,2,3],[4,5,6]]])\n",
    "print(a.ndim)\n",
    "print(b.ndim)\n",
    "print(c.ndim)\n",
    "print(d.ndim)"
   ]
  },
  {
   "cell_type": "code",
   "execution_count": 12,
   "id": "c0afc9c9",
   "metadata": {},
   "outputs": [],
   "source": [
    "import numpy as np\n",
    "a = np.array([1,2,3,4])\n",
    "np.save('outfile',a)"
   ]
  },
  {
   "cell_type": "code",
   "execution_count": 13,
   "id": "cadd9e84",
   "metadata": {},
   "outputs": [
    {
     "name": "stdout",
     "output_type": "stream",
     "text": [
      "[1 2 3 4]\n"
     ]
    }
   ],
   "source": [
    "import numpy as np\n",
    "b = np.load('outfile.npy')\n",
    "print(b)"
   ]
  },
  {
   "cell_type": "code",
   "execution_count": 17,
   "id": "3cf31fe8",
   "metadata": {},
   "outputs": [
    {
     "name": "stdout",
     "output_type": "stream",
     "text": [
      "<class 'numpy.ndarray'>\n",
      "int32\n",
      "[1. 2. 3. 4.]\n",
      "<class 'numpy.ndarray'>\n",
      "float64\n"
     ]
    }
   ],
   "source": [
    "import numpy as np\n",
    "a = np.array([1,2,3,4])\n",
    "print(type(a))\n",
    "print(a.dtype)\n",
    "np.savetxt('out.txt',a)\n",
    "b = np.loadtxt('out.txt')\n",
    "print(b)\n",
    "print(type(b))\n",
    "print(b.dtype)"
   ]
  },
  {
   "cell_type": "code",
   "execution_count": 20,
   "id": "02382d05",
   "metadata": {},
   "outputs": [
    {
     "name": "stdout",
     "output_type": "stream",
     "text": [
      "ELements of array: [1 3 5 7 9]\n",
      "Indexed Elements of array arr: [9 1 5 9 7]\n"
     ]
    }
   ],
   "source": [
    "import numpy as np\n",
    "arr = np.arange(1,10,2)\n",
    "print(\"ELements of array:\",arr)\n",
    "arr1 = arr[np.array([4,0,2,-1,-2])]\n",
    "print(\"Indexed Elements of array arr:\",arr1)"
   ]
  },
  {
   "cell_type": "code",
   "execution_count": 24,
   "id": "e7e9cb5a",
   "metadata": {},
   "outputs": [
    {
     "name": "stdout",
     "output_type": "stream",
     "text": [
      "Array arr1: [0 1 2 3]\n",
      "Elements at index 0 of arr1 is: 0\n",
      "Elements at index 1 of arr1 is: 1\n"
     ]
    }
   ],
   "source": [
    "#indexing 1-D array\n",
    "import numpy as np\n",
    "arr1 = np.arange(4)\n",
    "print(\"ArrCay arr1:\",arr1)\n",
    "print(\"Elements at index 0 of arr1 is:\",arr1[0])\n",
    "print(\"Elements at index 1 of arr1 is:\",arr1[1])"
   ]
  },
  {
   "cell_type": "code",
   "execution_count": 26,
   "id": "1a10b35d",
   "metadata": {},
   "outputs": [
    {
     "name": "stdout",
     "output_type": "stream",
     "text": [
      "ArrCay arr1:\n",
      " [[ 0  1  2  3]\n",
      " [ 4  5  6  7]\n",
      " [ 8  9 10 11]]\n",
      "Elements at eth row and eth column of arr1 is: 0\n",
      "Elements at 1st row and 2nd column of arr1 is: 6\n"
     ]
    }
   ],
   "source": [
    "#indexing 2-D array\n",
    "import numpy as np\n",
    "arr = np.arange(12)\n",
    "arr1 = arr.reshape(3,4)\n",
    "print(\"ArrCay arr1:\\n\",arr1)\n",
    "print(\"Elements at eth row and eth column of arr1 is:\",arr1[0,0])\n",
    "print(\"Elements at 1st row and 2nd column of arr1 is:\",arr1[1,2])"
   ]
  },
  {
   "cell_type": "code",
   "execution_count": 27,
   "id": "46de0a1c",
   "metadata": {},
   "outputs": [
    {
     "name": "stdout",
     "output_type": "stream",
     "text": [
      "Array arr1 :\n",
      " [[[ 0  1  2]\n",
      "  [ 3  4  5]]\n",
      "\n",
      " [[ 6  7  8]\n",
      "  [ 9 10 11]]]\n",
      "ELement: 8\n"
     ]
    }
   ],
   "source": [
    "#3-D array\n",
    "import numpy as np\n",
    "arr=np.arange(12)\n",
    "arr1 = arr.reshape(2,2,3)\n",
    "print(\"Array arr1 :\\n\",arr1)\n",
    "print(\"ELement:\",arr1[1,0,2])"
   ]
  },
  {
   "cell_type": "code",
   "execution_count": 28,
   "id": "3fec7378",
   "metadata": {},
   "outputs": [
    {
     "name": "stdout",
     "output_type": "stream",
     "text": [
      "Array arr: [0 1 2 3 4 5]\n",
      "Sliced element of array:  [1 2 3 4]\n",
      "Sliced element of array:  [1 2 3 4]\n"
     ]
    }
   ],
   "source": [
    "# Slicing a 1-D array\n",
    "import numpy as np\n",
    "arr = np.arange(6)\n",
    "print(\"Array arr:\",arr)\n",
    "print(\"Sliced element of array: \",arr[1:5])\n",
    "print(\"Sliced element of array: \",arr[-5:-1])"
   ]
  },
  {
   "cell_type": "code",
   "execution_count": 37,
   "id": "815471a6",
   "metadata": {},
   "outputs": [
    {
     "name": "stdout",
     "output_type": "stream",
     "text": [
      "Array arr1:\n",
      " [[ 0  1  2  3]\n",
      " [ 4  5  6  7]\n",
      " [ 8  9 10 11]]\n",
      "\n",
      "\n",
      "Sliced element of 1st row and 1st column upto last column \n",
      ":  []\n"
     ]
    }
   ],
   "source": [
    "# Slicing a 2-D array\n",
    "import numpy as np\n",
    "arr = np.arange(12)\n",
    "arr1 = arr.reshape(3,4)\n",
    "print(\"Array arr1:\\n\",arr1)\n",
    "print(\"\\n\")\n",
    "print(\"Sliced element of 1st row and 1st column upto last column \\n: \",arr1[1:,1:4])"
   ]
  },
  {
   "cell_type": "code",
   "execution_count": 41,
   "id": "6f5b8c6e",
   "metadata": {},
   "outputs": [
    {
     "name": "stdout",
     "output_type": "stream",
     "text": [
      "First array:\n",
      "[[ 0.  0.  0.]\n",
      " [10. 10. 10.]\n",
      " [20. 20. 20.]\n",
      " [30. 30. 30.]]\n",
      "\n",
      "\n",
      "Second Array\n",
      "[1. 2. 3.]\n",
      "\n",
      "\n",
      "First Array + Second array\n",
      "[[ 1.  2.  3.]\n",
      " [11. 12. 13.]\n",
      " [21. 22. 23.]\n",
      " [31. 32. 33.]]\n"
     ]
    }
   ],
   "source": [
    "#broadcasting\n",
    "import numpy as np\n",
    "a = np.array([[0.0,0.0,0.0],[10.0,10.0,10.0],[20.0,20.0,20.0],[30.0,30.0,30.0]])\n",
    "b = np.array([1.0,2.0,3.0])\n",
    "\n",
    "print(\"First array:\")\n",
    "print(a)\n",
    "print('\\n')\n",
    "\n",
    "print('Second Array')\n",
    "print(b)\n",
    "print('\\n')\n",
    "\n",
    "print('First Array + Second array')\n",
    "print(a+b)"
   ]
  },
  {
   "cell_type": "code",
   "execution_count": 46,
   "id": "8542eb65",
   "metadata": {},
   "outputs": [
    {
     "name": "stdout",
     "output_type": "stream",
     "text": [
      "[('Sana', 2, 21.) ('Mansi', 7, 29.)]\n"
     ]
    }
   ],
   "source": [
    "#structured array\n",
    "import numpy as np\n",
    "a = np.array([('Sana',2,21.0),('Mansi',7,29.0)],\n",
    "             dtype=[('name',(np. str_, 10)),('age',np.int32),('weight',np.float64)])\n",
    "print(a)"
   ]
  },
  {
   "cell_type": "code",
   "execution_count": 48,
   "id": "cfaea2bb",
   "metadata": {},
   "outputs": [
    {
     "name": "stdout",
     "output_type": "stream",
     "text": [
      "3.5\n"
     ]
    }
   ],
   "source": [
    "# statistical function\n",
    "# mean\n",
    "import numpy as np\n",
    "arr = np.array([1,2,3,4,5,6])\n",
    "print(arr.mean())"
   ]
  },
  {
   "cell_type": "code",
   "execution_count": 52,
   "id": "6fc0142f",
   "metadata": {},
   "outputs": [
    {
     "name": "stdout",
     "output_type": "stream",
     "text": [
      "3.5\n"
     ]
    }
   ],
   "source": [
    "# statistical function\n",
    "# median\n",
    "import numpy as np\n",
    "arr = np.array([1,2,3,4,5,6])\n",
    "median = np.median(arr)\n",
    "print(median)"
   ]
  },
  {
   "cell_type": "code",
   "execution_count": 53,
   "id": "1e03ad13",
   "metadata": {},
   "outputs": [
    {
     "name": "stdout",
     "output_type": "stream",
     "text": [
      "5\n"
     ]
    }
   ],
   "source": [
    "# statistical function\n",
    "# range\n",
    "import numpy as np\n",
    "arr = np.array([1,2,3,4,5,6])\n",
    "range = np.ptp(arr)\n",
    "print(range)"
   ]
  },
  {
   "cell_type": "code",
   "execution_count": 54,
   "id": "2e13455e",
   "metadata": {},
   "outputs": [
    {
     "name": "stdout",
     "output_type": "stream",
     "text": [
      "1.707825127659933\n"
     ]
    }
   ],
   "source": [
    "# statistical function\n",
    "# standard deviation\n",
    "import numpy as np\n",
    "arr = np.array([1,2,3,4,5,6])\n",
    "std = np.std(arr)\n",
    "print(std)"
   ]
  },
  {
   "cell_type": "code",
   "execution_count": null,
   "id": "0ee79a49",
   "metadata": {},
   "outputs": [],
   "source": []
  }
 ],
 "metadata": {
  "kernelspec": {
   "display_name": "Python 3 (ipykernel)",
   "language": "python",
   "name": "python3"
  },
  "language_info": {
   "codemirror_mode": {
    "name": "ipython",
    "version": 3
   },
   "file_extension": ".py",
   "mimetype": "text/x-python",
   "name": "python",
   "nbconvert_exporter": "python",
   "pygments_lexer": "ipython3",
   "version": "3.11.5"
  }
 },
 "nbformat": 4,
 "nbformat_minor": 5
}
