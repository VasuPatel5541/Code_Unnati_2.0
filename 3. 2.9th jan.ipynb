{
 "cells": [
  {
   "cell_type": "markdown",
   "id": "83323c14",
   "metadata": {},
   "source": [
    "# Pandas"
   ]
  },
  {
   "cell_type": "code",
   "execution_count": 1,
   "id": "c99cb267",
   "metadata": {},
   "outputs": [
    {
     "name": "stdout",
     "output_type": "stream",
     "text": [
      "2.0.3\n"
     ]
    }
   ],
   "source": [
    "# to check the version if pandas\n",
    "import pandas as pd\n",
    "print(pd.__version__)"
   ]
  },
  {
   "cell_type": "code",
   "execution_count": 2,
   "id": "9b15ef4e",
   "metadata": {},
   "outputs": [
    {
     "name": "stdout",
     "output_type": "stream",
     "text": [
      "Series([], dtype: object)\n",
      "0    g\n",
      "1    e\n",
      "2    e\n",
      "3    k\n",
      "4    s\n",
      "dtype: object\n"
     ]
    }
   ],
   "source": [
    "import pandas as pd\n",
    "import numpy as np\n",
    "\n",
    "#creating empty series\n",
    "ser = pd.Series()\n",
    "print(ser)\n",
    "#simple array\n",
    "data = np.array(['g','e','e','k','s'])\n",
    "ser = pd.Series(data)\n",
    "print(ser)"
   ]
  },
  {
   "cell_type": "markdown",
   "id": "740e1f01",
   "metadata": {},
   "source": [
    "# Creating a series of list"
   ]
  },
  {
   "cell_type": "code",
   "execution_count": 3,
   "id": "093e7212",
   "metadata": {},
   "outputs": [],
   "source": [
    "# there is one differnce betweeen creating array and list\n",
    "# to create series of array we need to use numpy and pandas array\n",
    "# to create series of list we need to only use pandas array"
   ]
  },
  {
   "cell_type": "code",
   "execution_count": 4,
   "id": "5069bfd2",
   "metadata": {},
   "outputs": [
    {
     "name": "stdout",
     "output_type": "stream",
     "text": [
      "0    g\n",
      "1    e\n",
      "2    e\n",
      "3    k\n",
      "4    s\n",
      "dtype: object\n"
     ]
    }
   ],
   "source": [
    "import pandas as pd\n",
    "#a simple list\n",
    "list = ['g','e','e','k','s']\n",
    "ser = pd.Series(list)\n",
    "print(ser)"
   ]
  },
  {
   "cell_type": "code",
   "execution_count": 5,
   "id": "34bdf090",
   "metadata": {},
   "outputs": [
    {
     "name": "stdout",
     "output_type": "stream",
     "text": [
      "<bound method NDFrame.describe of      Airport.Code                                       Airport.Name  \\\n",
      "0             ATL  Atlanta, GA: Hartsfield-Jackson Atlanta Intern...   \n",
      "1             BOS                    Boston, MA: Logan International   \n",
      "2             BWI  Baltimore, MD: Baltimore/Washington Internatio...   \n",
      "3             CLT     Charlotte, NC: Charlotte Douglas International   \n",
      "4             DCA  Washington, DC: Ronald Reagan Washington National   \n",
      "...           ...                                                ...   \n",
      "4403          SAN             San Diego, CA: San Diego International   \n",
      "4404          SEA          Seattle, WA: Seattle/Tacoma International   \n",
      "4405          SFO     San Francisco, CA: San Francisco International   \n",
      "4406          SLC   Salt Lake City, UT: Salt Lake City International   \n",
      "4407          TPA                     Tampa, FL: Tampa International   \n",
      "\n",
      "     Time.Label  Time.Month Time.Month Name  Time.Year  \\\n",
      "0       2003/06           6            June       2003   \n",
      "1       2003/06           6            June       2003   \n",
      "2       2003/06           6            June       2003   \n",
      "3       2003/06           6            June       2003   \n",
      "4       2003/06           6            June       2003   \n",
      "...         ...         ...             ...        ...   \n",
      "4403    2016/01           1         January       2016   \n",
      "4404    2016/01           1         January       2016   \n",
      "4405    2016/01           1         January       2016   \n",
      "4406    2016/01           1         January       2016   \n",
      "4407    2016/01           1         January       2016   \n",
      "\n",
      "      Statistics.# of Delays.Carrier  Statistics.# of Delays.Late Aircraft  \\\n",
      "0                               1009                                  1275   \n",
      "1                                374                                   495   \n",
      "2                                296                                   477   \n",
      "3                                300                                   472   \n",
      "4                                283                                   268   \n",
      "...                              ...                                   ...   \n",
      "4403                             280                                   397   \n",
      "4404                             357                                   513   \n",
      "4405                             560                                   947   \n",
      "4406                             338                                   540   \n",
      "4407                             410                                   342   \n",
      "\n",
      "      Statistics.# of Delays.National Aviation System  \\\n",
      "0                                                3217   \n",
      "1                                                 685   \n",
      "2                                                 389   \n",
      "3                                                 735   \n",
      "4                                                 487   \n",
      "...                                               ...   \n",
      "4403                                              171   \n",
      "4404                                              351   \n",
      "4405                                             2194   \n",
      "4406                                              253   \n",
      "4407                                              312   \n",
      "\n",
      "      Statistics.# of Delays.Security  ...  Statistics.Flights.Delayed  \\\n",
      "0                                  17  ...                        5843   \n",
      "1                                   3  ...                        1623   \n",
      "2                                   8  ...                        1245   \n",
      "3                                   2  ...                        1562   \n",
      "4                                   4  ...                        1100   \n",
      "...                               ...  ...                         ...   \n",
      "4403                                2  ...                         871   \n",
      "4404                                2  ...                        1274   \n",
      "4405                                2  ...                        3825   \n",
      "4406                                3  ...                        1175   \n",
      "4407                                2  ...                        1095   \n",
      "\n",
      "     Statistics.Flights.Diverted  Statistics.Flights.On Time  \\\n",
      "0                             27                       23974   \n",
      "1                              3                        7875   \n",
      "2                             15                        6998   \n",
      "3                             14                        7021   \n",
      "4                             18                        5321   \n",
      "...                          ...                         ...   \n",
      "4403                          18                        5030   \n",
      "4404                          31                        8330   \n",
      "4405                          20                        8912   \n",
      "4406                          14                        7426   \n",
      "4407                           7                        4748   \n",
      "\n",
      "      Statistics.Flights.Total  Statistics.Minutes Delayed.Carrier  \\\n",
      "0                        30060                               61606   \n",
      "1                         9639                               20319   \n",
      "2                         8287                               13635   \n",
      "3                         8670                               14763   \n",
      "4                         6513                               13775   \n",
      "...                        ...                                 ...   \n",
      "4403                      6016                               15482   \n",
      "4404                      9739                               25461   \n",
      "4405                     13206                               43641   \n",
      "4406                      8699                               32066   \n",
      "4407                      5996                               22557   \n",
      "\n",
      "      Statistics.Minutes Delayed.Late Aircraft  \\\n",
      "0                                        68335   \n",
      "1                                        28189   \n",
      "2                                        26810   \n",
      "3                                        23379   \n",
      "4                                        13712   \n",
      "...                                        ...   \n",
      "4403                                     23023   \n",
      "4404                                     32693   \n",
      "4405                                     72557   \n",
      "4406                                     33682   \n",
      "4407                                     21164   \n",
      "\n",
      "      Statistics.Minutes Delayed.National Aviation System  \\\n",
      "0                                                118831     \n",
      "1                                                 24400     \n",
      "2                                                 17556     \n",
      "3                                                 23804     \n",
      "4                                                 20999     \n",
      "...                                                 ...     \n",
      "4403                                               6021     \n",
      "4404                                              11466     \n",
      "4405                                             153416     \n",
      "4406                                               8057     \n",
      "4407                                              11423     \n",
      "\n",
      "      Statistics.Minutes Delayed.Security  Statistics.Minutes Delayed.Total  \\\n",
      "0                                     518                            268764   \n",
      "1                                      99                             77167   \n",
      "2                                     278                             64480   \n",
      "3                                     127                             65865   \n",
      "4                                     120                             52747   \n",
      "...                                   ...                               ...   \n",
      "4403                                   79                             46206   \n",
      "4404                                   73                             74017   \n",
      "4405                                   66                            278610   \n",
      "4406                                   57                             76978   \n",
      "4407                                   37                             57774   \n",
      "\n",
      "      Statistics.Minutes Delayed.Weather  \n",
      "0                                  19474  \n",
      "1                                   4160  \n",
      "2                                   6201  \n",
      "3                                   3792  \n",
      "4                                   4141  \n",
      "...                                  ...  \n",
      "4403                                1601  \n",
      "4404                                4324  \n",
      "4405                                8930  \n",
      "4406                                3116  \n",
      "4407                                2593  \n",
      "\n",
      "[4408 rows x 24 columns]>\n"
     ]
    }
   ],
   "source": [
    "# Pandas index\n",
    "import pandas as pd\n",
    "data = pd.read_csv(\"airlines.csv\")\n",
    "print(data.describe)"
   ]
  },
  {
   "cell_type": "code",
   "execution_count": 6,
   "id": "ad721518",
   "metadata": {},
   "outputs": [],
   "source": [
    "# What is the meaning of dataframe?\n",
    "# It is define as a data structure that organizes data into a 2-dimensional table of rows and columns\n",
    "# much like a spreadsheet"
   ]
  },
  {
   "cell_type": "code",
   "execution_count": 7,
   "id": "cecb639c",
   "metadata": {},
   "outputs": [
    {
     "name": "stdout",
     "output_type": "stream",
     "text": [
      "        0\n",
      "0   Geeks\n",
      "1     for\n",
      "2   Geeks\n",
      "3      is\n",
      "4  Portal\n",
      "5     for\n",
      "6   Geeks\n"
     ]
    }
   ],
   "source": [
    "import pandas as pd\n",
    "#creating list\n",
    "lst = ['Geeks','for','Geeks','is','Portal','for','Geeks']\n",
    "#calling dataframe constructor on list\n",
    "df = pd.DataFrame(lst)\n",
    "print(df)"
   ]
  },
  {
   "cell_type": "code",
   "execution_count": 8,
   "id": "858e57d4",
   "metadata": {},
   "outputs": [
    {
     "name": "stdout",
     "output_type": "stream",
     "text": [
      "    Name  Age\n",
      "0    Tom   20\n",
      "1   nick   21\n",
      "2  krish   19\n",
      "3   jack   18\n"
     ]
    }
   ],
   "source": [
    "import pandas as pd\n",
    "data = {'Name':['Tom' , 'nick' , 'krish' , 'jack'],'Age':[20,21,19,18]}\n",
    "#create Dataframe\n",
    "df = pd.DataFrame(data)\n",
    "print(df)"
   ]
  },
  {
   "cell_type": "code",
   "execution_count": 9,
   "id": "3fd16b09",
   "metadata": {},
   "outputs": [
    {
     "name": "stdout",
     "output_type": "stream",
     "text": [
      "         P   Q   R   S\n",
      "Parker   4   6  17  15\n",
      "William  7   8  13  19\n",
      "Smith    1  10  12   7\n",
      "Terry    8  15  16  21\n",
      "Phill    9  11  14   9\n"
     ]
    }
   ],
   "source": [
    "# RE-indexing = to create a new index\n",
    "# in other words = used to change the row labels and column labels of a DataFrame.\n",
    "info = pd.DataFrame({'P':[4,7,1,8,9],\n",
    "                    'Q':[6,8,10,15,11],\n",
    "                    'R':[17,13,12,16,14],\n",
    "                    'S':[15,19,7,21,9]},\n",
    "                   index = ['Parker' , 'William' , 'Smith' , 'Terry' , 'Phill'])\n",
    "print(info)"
   ]
  },
  {
   "cell_type": "code",
   "execution_count": 10,
   "id": "a67f4686",
   "metadata": {
    "scrolled": false
   },
   "outputs": [
    {
     "name": "stdout",
     "output_type": "stream",
     "text": [
      "    P   Q   R   S\n",
      "A NaN NaN NaN NaN\n",
      "B NaN NaN NaN NaN\n",
      "C NaN NaN NaN NaN\n",
      "D NaN NaN NaN NaN\n",
      "E NaN NaN NaN NaN\n"
     ]
    }
   ],
   "source": [
    "#reindexing with new index\n",
    "abc = info.reindex(['A','B','C','D','E'])\n",
    "print(abc)"
   ]
  },
  {
   "cell_type": "code",
   "execution_count": 11,
   "id": "f5fb673f",
   "metadata": {
    "scrolled": false
   },
   "outputs": [
    {
     "name": "stdout",
     "output_type": "stream",
     "text": [
      "     P    Q    R    S\n",
      "A  100  100  100  100\n",
      "B  100  100  100  100\n",
      "C  100  100  100  100\n",
      "D  100  100  100  100\n",
      "E  100  100  100  100\n"
     ]
    }
   ],
   "source": [
    "#reindexing with new index\n",
    "abcd = info.reindex(['A','B','C','D','E'],fill_value=100)\n",
    "print(abcd)"
   ]
  },
  {
   "cell_type": "code",
   "execution_count": null,
   "id": "aecc2c51",
   "metadata": {},
   "outputs": [],
   "source": [
    "#two types of sorting in pandas\n",
    "#1. by label\n",
    "#2. by index"
   ]
  },
  {
   "cell_type": "code",
   "execution_count": 22,
   "id": "ebea1283",
   "metadata": {},
   "outputs": [
    {
     "name": "stdout",
     "output_type": "stream",
     "text": [
      "       col2      col1\n",
      "1  0.119924  0.500487\n",
      "4  0.492094  1.635935\n",
      "6 -0.683878 -0.514807\n",
      "2 -0.401307 -0.858318\n",
      "3 -0.868021  0.510751\n",
      "5  0.879276  1.127850\n",
      "9 -0.204173  0.627872\n",
      "8 -0.533830 -1.678657\n",
      "8  1.953059 -0.839636\n",
      "7  0.364080  0.183532\n",
      "       col2      col1\n",
      "9 -0.204173  0.627872\n",
      "8 -0.533830 -1.678657\n",
      "8  1.953059 -0.839636\n",
      "7  0.364080  0.183532\n",
      "6 -0.683878 -0.514807\n",
      "5  0.879276  1.127850\n",
      "4  0.492094  1.635935\n",
      "3 -0.868021  0.510751\n",
      "2 -0.401307 -0.858318\n",
      "1  0.119924  0.500487\n"
     ]
    }
   ],
   "source": [
    "#unsorted dataframe to sorted dataframe\n",
    "import pandas as pd\n",
    "import numpy as np\n",
    "unsorted_df = pd.DataFrame(np.random.randn (10,2),index= [1,4,6,2,3,5,9,8,8,7],columns=['col2','col1'])\n",
    "print(unsorted_df)\n",
    "sorted_df = unsorted_df.sort_index(ascending=False)\n",
    "print(sorted_df)"
   ]
  },
  {
   "cell_type": "code",
   "execution_count": 26,
   "id": "fd17633b",
   "metadata": {},
   "outputs": [
    {
     "name": "stdout",
     "output_type": "stream",
     "text": [
      "       col2      col1\n",
      "1 -0.501490  0.249150\n",
      "4  0.593294 -0.437001\n",
      "6  0.932885  0.705267\n",
      "2  0.350766  0.004683\n",
      "3 -1.555916 -0.528205\n",
      "5 -0.899663 -1.189381\n",
      "9  0.954408 -1.094881\n",
      "8 -0.727432 -0.661023\n",
      "8  0.025482 -0.001352\n",
      "7 -0.382090 -0.254255\n",
      "       col1      col2\n",
      "1  0.249150 -0.501490\n",
      "4 -0.437001  0.593294\n",
      "6  0.705267  0.932885\n",
      "2  0.004683  0.350766\n",
      "3 -0.528205 -1.555916\n",
      "5 -1.189381 -0.899663\n",
      "9 -1.094881  0.954408\n",
      "8 -0.661023 -0.727432\n",
      "8 -0.001352  0.025482\n",
      "7 -0.254255 -0.382090\n"
     ]
    }
   ],
   "source": [
    "#unsorted dataframe to sorted dataframe\n",
    "import pandas as pd\n",
    "import numpy as np\n",
    "unsorted_df = pd.DataFrame(np.random.randn (10,2),index= [1,4,6,2,3,5,9,8,8,7],columns=['col2','col1'])\n",
    "print(unsorted_df)\n",
    "sorted_df = unsorted_df.sort_index(ascending = True,axis=1)\n",
    "print(sorted_df)"
   ]
  },
  {
   "cell_type": "code",
   "execution_count": 23,
   "id": "0d049422",
   "metadata": {
    "scrolled": true
   },
   "outputs": [
    {
     "name": "stdout",
     "output_type": "stream",
     "text": [
      "   col2  col1\n",
      "1     3     3\n",
      "4     3     3\n",
      "6     3     3\n",
      "2     3     3\n",
      "3     3     3\n",
      "5     3     3\n",
      "9     3     3\n",
      "8     3     3\n",
      "8     3     3\n",
      "7     3     3\n",
      "   col2  col1\n",
      "1     3     3\n",
      "2     3     3\n",
      "3     3     3\n",
      "4     3     3\n",
      "5     3     3\n",
      "6     3     3\n",
      "7     3     3\n",
      "8     3     3\n",
      "8     3     3\n",
      "9     3     3\n"
     ]
    }
   ],
   "source": [
    "#unsorted dataframe to sorted dataframe\n",
    "import pandas as pd\n",
    "import numpy as np\n",
    "unsorted_df = pd.DataFrame(np.random.randint (2,10),index= [1,4,6,2,3,5,9,8,8,7],columns=['col2','col1'])\n",
    "print(unsorted_df)\n",
    "sorted_df = unsorted_df.sort_index()\n",
    "print(sorted_df)"
   ]
  },
  {
   "cell_type": "code",
   "execution_count": 30,
   "id": "fac4dfc5",
   "metadata": {},
   "outputs": [
    {
     "name": "stdout",
     "output_type": "stream",
     "text": [
      "   col1  col2\n",
      "0     2     1\n",
      "1     1     3\n",
      "2     1     2\n",
      "3     1     4\n",
      "   col1  col2\n",
      "1     1     3\n",
      "2     1     2\n",
      "3     1     4\n",
      "0     2     1\n"
     ]
    }
   ],
   "source": [
    "\n",
    "import pandas as pd\n",
    "import numpy as np\n",
    "unsorted_df  = pd.DataFrame({'col1':[2,1,1,1], 'col2':[1,3,2,4]})\n",
    "print(unsorted_df)\n",
    "sorted_df = unsorted_df.sort_values (by='col1')\n",
    "print(sorted_df)"
   ]
  },
  {
   "cell_type": "code",
   "execution_count": 32,
   "id": "cfcea251",
   "metadata": {},
   "outputs": [
    {
     "name": "stdout",
     "output_type": "stream",
     "text": [
      "0             tom\n",
      "1    william wick\n",
      "2            john\n",
      "3          albert\n",
      "4             NaN\n",
      "5            1234\n",
      "6      stevesmith\n",
      "dtype: object\n"
     ]
    }
   ],
   "source": [
    "s = pd.Series(['Tom','William Wick','John','Albert',np.nan,'1234','SteveSmith'])\n",
    "print(s.str.lower())"
   ]
  },
  {
   "cell_type": "code",
   "execution_count": 33,
   "id": "daf304dc",
   "metadata": {},
   "outputs": [
    {
     "name": "stdout",
     "output_type": "stream",
     "text": [
      "0             TOM\n",
      "1    WILLIAM WICK\n",
      "2            JOHN\n",
      "3          ALBERT\n",
      "4             NaN\n",
      "5            1234\n",
      "6      STEVESMITH\n",
      "dtype: object\n"
     ]
    }
   ],
   "source": [
    "s = pd.Series(['Tom','William Wick','John','Albert',np.nan,'1234','SteveSmith'])\n",
    "print(s.str.upper())"
   ]
  },
  {
   "cell_type": "code",
   "execution_count": 34,
   "id": "5ea2575b",
   "metadata": {},
   "outputs": [
    {
     "name": "stdout",
     "output_type": "stream",
     "text": [
      "0    False\n",
      "1    False\n",
      "2    False\n",
      "3    False\n",
      "4      NaN\n",
      "5    False\n",
      "6    False\n",
      "dtype: object\n"
     ]
    }
   ],
   "source": [
    "s = pd.Series(['Tom','William Wick','John','Albert',np.nan,'1234','SteveSmith'])\n",
    "print(s.str.islower())"
   ]
  },
  {
   "cell_type": "code",
   "execution_count": 43,
   "id": "ae844b5a",
   "metadata": {},
   "outputs": [
    {
     "name": "stdout",
     "output_type": "stream",
     "text": [
      "Dataframe = \n",
      "    Maths  Science  English\n",
      "0     90       92       95\n",
      "1     85       87       94\n",
      "2     98       59       84\n",
      "3     80       64       70\n",
      "4     55       87       75\n",
      "5     78       96       60\n",
      "Insum = \n",
      " Maths      486\n",
      "Science    485\n",
      "English    478\n",
      "dtype: int64\n"
     ]
    }
   ],
   "source": [
    "data ={\n",
    "'Maths':(90,85,98,80,55,78),\n",
    "'Science': (92,87,59,64, 87,96),\n",
    "'English': (95,94,84,70,75,60)}\n",
    "# Dataframe\n",
    "df = pd.DataFrame(data)\n",
    "# Display the Dataframe\n",
    "print(\"Dataframe = \\n\",df)\n",
    "# Display the sum of Marks in each column\n",
    "print(\"Insum = \\n\", df.sum())"
   ]
  },
  {
   "cell_type": "code",
   "execution_count": 49,
   "id": "bb9b1d23",
   "metadata": {},
   "outputs": [
    {
     "name": "stdout",
     "output_type": "stream",
     "text": [
      "Dataframe = \n",
      "    Maths  Science  English\n",
      "0   90.0     92.0     95.0\n",
      "1   85.0     87.0      NaN\n",
      "2   98.0     59.0     84.0\n",
      "3    NaN      NaN     70.0\n",
      "4   55.0      NaN     75.0\n",
      "5   78.0     96.0      NaN\n",
      "\n",
      "count the number of non-empty value:\n",
      " Maths      5\n",
      "Science    4\n",
      "English    4\n",
      "dtype: int64\n"
     ]
    }
   ],
   "source": [
    "data ={\n",
    "'Maths':(90,85,98,None,55,78),\n",
    "'Science': (92,87,59,None,None,96),\n",
    "'English': (95,None,84,70,75,None)}\n",
    "# Dataframe\n",
    "df = pd.DataFrame(data)\n",
    "# Display the Dataframe\n",
    "print(\"Dataframe = \\n\",df)\n",
    "#display the count of non-empty values in each column\n",
    "print(\"\\ncount the number of non-empty value:\\n\",df.count())"
   ]
  },
  {
   "cell_type": "code",
   "execution_count": null,
   "id": "98dc6ba5",
   "metadata": {},
   "outputs": [],
   "source": []
  },
  {
   "cell_type": "code",
   "execution_count": 48,
   "id": "f1014d0e",
   "metadata": {},
   "outputs": [
    {
     "name": "stdout",
     "output_type": "stream",
     "text": [
      "Dataframe = \n",
      "    Maths  Science  English\n",
      "0     90       92       95\n",
      "1     85       87       94\n",
      "2     98       59       84\n",
      "3     80       64       70\n",
      "4     55       87       75\n",
      "5     78       96       60\n",
      "MAX VALUE = \n",
      " Maths      98\n",
      "Science    96\n",
      "English    95\n",
      "dtype: int64\n"
     ]
    }
   ],
   "source": [
    "data ={\n",
    "'Maths':(90,85,98,80,55,78),\n",
    "'Science': (92,87,59,64, 87,96),\n",
    "'English': (95,94,84,70,75,60)}\n",
    "# Dataframe\n",
    "df = pd.DataFrame(data)\n",
    "# Display the Dataframe\n",
    "print(\"Dataframe = \\n\",df)\n",
    "# Display the max of Marks in each column\n",
    "print(\"MAX VALUE = \\n\", df.max())"
   ]
  },
  {
   "cell_type": "code",
   "execution_count": 50,
   "id": "480d04f6",
   "metadata": {},
   "outputs": [
    {
     "name": "stdout",
     "output_type": "stream",
     "text": [
      "Dataframe = \n",
      "    Maths  Science  English\n",
      "0     90       92       95\n",
      "1     85       87       94\n",
      "2     98       59       84\n",
      "3     80       64       70\n",
      "4     55       87       75\n",
      "5     78       96       60\n",
      "MIN VALUE = \n",
      " Maths      55\n",
      "Science    59\n",
      "English    60\n",
      "dtype: int64\n"
     ]
    }
   ],
   "source": [
    "data ={\n",
    "'Maths':(90,85,98,80,55,78),\n",
    "'Science': (92,87,59,64, 87,96),\n",
    "'English': (95,94,84,70,75,60)}\n",
    "# Dataframe\n",
    "df = pd.DataFrame(data)\n",
    "# Display the Dataframe\n",
    "print(\"Dataframe = \\n\",df)\n",
    "# Display the min of Marks in each column\n",
    "print(\"MIN VALUE = \\n\", df.min())"
   ]
  },
  {
   "cell_type": "code",
   "execution_count": 51,
   "id": "fd594bd7",
   "metadata": {},
   "outputs": [
    {
     "name": "stdout",
     "output_type": "stream",
     "text": [
      "Dataframe = \n",
      "    Maths  Science  English\n",
      "0     90       92       95\n",
      "1     85       87       94\n",
      "2     98       59       84\n",
      "3     80       64       70\n",
      "4     55       87       75\n",
      "5     78       96       60\n",
      "MEDIAN VALUE = \n",
      " Maths      82.5\n",
      "Science    87.0\n",
      "English    79.5\n",
      "dtype: float64\n"
     ]
    }
   ],
   "source": [
    "data ={\n",
    "'Maths':(90,85,98,80,55,78),\n",
    "'Science': (92,87,59,64, 87,96),\n",
    "'English': (95,94,84,70,75,60)}\n",
    "# Dataframe\n",
    "df = pd.DataFrame(data)\n",
    "# Display the Dataframe\n",
    "print(\"Dataframe = \\n\",df)\n",
    "# Display the median of Marks in each column\n",
    "print(\"MEDIAN VALUE = \\n\", df.median())"
   ]
  },
  {
   "cell_type": "code",
   "execution_count": null,
   "id": "0b696503",
   "metadata": {},
   "outputs": [],
   "source": []
  },
  {
   "cell_type": "code",
   "execution_count": 52,
   "id": "204098b5",
   "metadata": {},
   "outputs": [
    {
     "name": "stdout",
     "output_type": "stream",
     "text": [
      "Dataframe = \n",
      "    Maths  Science  English\n",
      "0     90       92       95\n",
      "1     85       87       94\n",
      "2     98       59       84\n",
      "3     80       64       70\n",
      "4     55       87       75\n",
      "5     78       96       60\n",
      "MEAN VALUE = \n",
      " Maths      81.000000\n",
      "Science    80.833333\n",
      "English    79.666667\n",
      "dtype: float64\n"
     ]
    }
   ],
   "source": [
    "data ={\n",
    "'Maths':(90,85,98,80,55,78),\n",
    "'Science': (92,87,59,64, 87,96),\n",
    "'English': (95,94,84,70,75,60)}\n",
    "# Dataframe\n",
    "df = pd.DataFrame(data)\n",
    "# Display the Dataframe\n",
    "print(\"Dataframe = \\n\",df)\n",
    "# Display the mean of Marks in each column\n",
    "print(\"MEAN VALUE = \\n\", df.mean())"
   ]
  },
  {
   "cell_type": "code",
   "execution_count": 55,
   "id": "f19f98ad",
   "metadata": {},
   "outputs": [
    {
     "name": "stdout",
     "output_type": "stream",
     "text": [
      "Name\n",
      "Avery Bradley    25.0\n",
      "Jae Crowder      25.0\n",
      "John Holland     27.0\n",
      "R.J. Hunter      22.0\n",
      "Jonas Jerebko    29.0\n",
      "                 ... \n",
      "Shelvin Mack     26.0\n",
      "Raul Neto        24.0\n",
      "Tibor Pleiss     26.0\n",
      "Jeff Withey      26.0\n",
      "NaN               NaN\n",
      "Name: Age, Length: 458, dtype: float64\n"
     ]
    }
   ],
   "source": [
    "#making data frame from csv file\n",
    "data = pd.read_csv(\"nba.csv\",index_col=\"Name\")\n",
    "#retrieving columns by indexing operator\n",
    "first = data[\"Age\"]\n",
    "print(first)"
   ]
  },
  {
   "cell_type": "code",
   "execution_count": 59,
   "id": "8e71c86e",
   "metadata": {},
   "outputs": [
    {
     "name": "stdout",
     "output_type": "stream",
     "text": [
      "Team        Boston Celtics\n",
      "Number                 0.0\n",
      "Position                PG\n",
      "Age                   25.0\n",
      "Height                 6-2\n",
      "Weight               180.0\n",
      "College              Texas\n",
      "Salary           7730337.0\n",
      "Name: Avery Bradley, dtype: object \n",
      "\n",
      " Team        Boston Celtics\n",
      "Number                28.0\n",
      "Position                SG\n",
      "Age                   22.0\n",
      "Height                 6-5\n",
      "Weight               185.0\n",
      "College      Georgia State\n",
      "Salary           1148640.0\n",
      "Name: R.J. Hunter, dtype: object\n"
     ]
    }
   ],
   "source": [
    "# in loc we need to specify the value\n",
    "#making data frame from csv file\n",
    "data = pd.read_csv(\"nba.csv\",index_col=\"Name\")\n",
    "\n",
    "#retrieving row by loc method\n",
    "first = data.loc[\"Avery Bradley\"]\n",
    "second = data.loc[\"R.J. Hunter\"]\n",
    "print(first,\"\\n\\n\",second)"
   ]
  },
  {
   "cell_type": "code",
   "execution_count": 60,
   "id": "fbcb1806",
   "metadata": {
    "scrolled": true
   },
   "outputs": [
    {
     "name": "stdout",
     "output_type": "stream",
     "text": [
      "Team        Boston Celtics\n",
      "Number                28.0\n",
      "Position                SG\n",
      "Age                   22.0\n",
      "Height                 6-5\n",
      "Weight               185.0\n",
      "College      Georgia State\n",
      "Salary           1148640.0\n",
      "Name: R.J. Hunter, dtype: object\n"
     ]
    }
   ],
   "source": [
    "#iloc is used to access the data with specific location \n",
    "#making data frame from csv file\n",
    "data = pd.read_csv(\"nba.csv\",index_col=\"Name\")\n",
    "#retrieving rows by iloc method\n",
    "row2 = data.iloc[3]\n",
    "print(row2)"
   ]
  },
  {
   "cell_type": "code",
   "execution_count": null,
   "id": "b8089ee4",
   "metadata": {},
   "outputs": [],
   "source": []
  }
 ],
 "metadata": {
  "kernelspec": {
   "display_name": "Python 3 (ipykernel)",
   "language": "python",
   "name": "python3"
  },
  "language_info": {
   "codemirror_mode": {
    "name": "ipython",
    "version": 3
   },
   "file_extension": ".py",
   "mimetype": "text/x-python",
   "name": "python",
   "nbconvert_exporter": "python",
   "pygments_lexer": "ipython3",
   "version": "3.11.5"
  }
 },
 "nbformat": 4,
 "nbformat_minor": 5
}
