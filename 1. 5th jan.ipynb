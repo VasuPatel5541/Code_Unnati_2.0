{
 "cells": [
  {
   "cell_type": "code",
   "execution_count": 1,
   "id": "222af6d7",
   "metadata": {},
   "outputs": [
    {
     "name": "stdout",
     "output_type": "stream",
     "text": [
      "Dhruv\n"
     ]
    }
   ],
   "source": [
    "print(\"Dhruv\")"
   ]
  },
  {
   "cell_type": "code",
   "execution_count": 2,
   "id": "0f5564ba",
   "metadata": {},
   "outputs": [
    {
     "name": "stdout",
     "output_type": "stream",
     "text": [
      "<class 'int'>\n",
      "<class 'float'>\n",
      "<class 'str'>\n"
     ]
    }
   ],
   "source": [
    "a = 10\n",
    "b = 10.54\n",
    "c = \"dhruv\"\n",
    "print(type(a))\n",
    "print(type(b))\n",
    "print(type(c))"
   ]
  },
  {
   "cell_type": "code",
   "execution_count": 3,
   "id": "d4c06c16",
   "metadata": {},
   "outputs": [
    {
     "name": "stdout",
     "output_type": "stream",
     "text": [
      "Hello\n",
      "Hello\n",
      "Hello\n",
      "Hello\n"
     ]
    }
   ],
   "source": [
    "#variable declaration\n",
    "myvar=\"Hello\"\n",
    "my_var=\"Hello\"\n",
    "_my_var=\"Hello\"\n",
    "myvar_=\"Hello\"\n",
    "print(myvar)\n",
    "print(my_var)\n",
    "print(_my_var)\n",
    "print(myvar_)\n"
   ]
  },
  {
   "cell_type": "code",
   "execution_count": 4,
   "id": "9d2d438c",
   "metadata": {},
   "outputs": [
    {
     "name": "stdout",
     "output_type": "stream",
     "text": [
      "10\n"
     ]
    }
   ],
   "source": [
    "#function\n",
    "def hello():\n",
    "    a = 10\n",
    "    print(a)\n",
    "    return \n",
    "hello()"
   ]
  },
  {
   "cell_type": "code",
   "execution_count": 5,
   "id": "9d4dc262",
   "metadata": {},
   "outputs": [
    {
     "name": "stdout",
     "output_type": "stream",
     "text": [
      "Welcome to code unnati 2.O\n"
     ]
    }
   ],
   "source": [
    "#local and global variable\n",
    "a = \"Welcome to code unnati 2.O\"\n",
    "def hello():\n",
    "    a = 20\n",
    "    print(a)\n",
    "    return\n",
    "print(a)"
   ]
  },
  {
   "cell_type": "code",
   "execution_count": 6,
   "id": "553412ac",
   "metadata": {},
   "outputs": [
    {
     "name": "stdout",
     "output_type": "stream",
     "text": [
      "10\n",
      "<class 'int'>\n"
     ]
    }
   ],
   "source": [
    "#find variable type\n",
    "a = 10\n",
    "print(a)\n",
    "print(type(a))\n",
    "\n"
   ]
  },
  {
   "cell_type": "code",
   "execution_count": 7,
   "id": "d560a6ec",
   "metadata": {},
   "outputs": [
    {
     "name": "stdout",
     "output_type": "stream",
     "text": [
      "10 11 12 13\n"
     ]
    }
   ],
   "source": [
    "#multiple variable declaration\n",
    "b,c,d = 11,12,13\n",
    "print(a,b,c,d)"
   ]
  },
  {
   "cell_type": "code",
   "execution_count": 8,
   "id": "e9ea5668",
   "metadata": {},
   "outputs": [
    {
     "name": "stdout",
     "output_type": "stream",
     "text": [
      "8\n"
     ]
    }
   ],
   "source": [
    "#Arithmatic operator\n",
    "x = 5\n",
    "y = 3\n",
    "print(x+y)"
   ]
  },
  {
   "cell_type": "code",
   "execution_count": 9,
   "id": "8d91ad87",
   "metadata": {},
   "outputs": [
    {
     "name": "stdout",
     "output_type": "stream",
     "text": [
      "8 15\n"
     ]
    }
   ],
   "source": [
    "#Assignment operator\n",
    "x = 5 \n",
    "x += 3\n",
    "y = 5\n",
    "y *= 3\n",
    "print(x,y)"
   ]
  },
  {
   "cell_type": "code",
   "execution_count": 10,
   "id": "df7f03b0",
   "metadata": {},
   "outputs": [
    {
     "name": "stdout",
     "output_type": "stream",
     "text": [
      "False\n"
     ]
    }
   ],
   "source": [
    "#comaprison operator \n",
    "x = 5 \n",
    "y = 3 \n",
    "print(x == y)"
   ]
  },
  {
   "cell_type": "code",
   "execution_count": 11,
   "id": "980b700b",
   "metadata": {},
   "outputs": [
    {
     "name": "stdout",
     "output_type": "stream",
     "text": [
      "True\n"
     ]
    }
   ],
   "source": [
    "#comprison operator\n",
    "x,y = 5,3\n",
    "print(x != y)"
   ]
  },
  {
   "cell_type": "code",
   "execution_count": 12,
   "id": "42641cbf",
   "metadata": {},
   "outputs": [
    {
     "name": "stdout",
     "output_type": "stream",
     "text": [
      "True\n"
     ]
    }
   ],
   "source": [
    "#logical operator\n",
    "x=5\n",
    "print(x>3 and x<10)"
   ]
  },
  {
   "cell_type": "code",
   "execution_count": 13,
   "id": "3884ed53",
   "metadata": {},
   "outputs": [
    {
     "name": "stdout",
     "output_type": "stream",
     "text": [
      "True\n"
     ]
    }
   ],
   "source": [
    "#logical operator\n",
    "x=5\n",
    "print(x>3 or x<10)"
   ]
  },
  {
   "cell_type": "code",
   "execution_count": 14,
   "id": "ddaaa045",
   "metadata": {},
   "outputs": [
    {
     "name": "stdout",
     "output_type": "stream",
     "text": [
      "False\n"
     ]
    }
   ],
   "source": [
    "#logical operator\n",
    "x=5\n",
    "print(not(x>3 and x<10))"
   ]
  },
  {
   "cell_type": "code",
   "execution_count": 15,
   "id": "5f99c2d0",
   "metadata": {},
   "outputs": [
    {
     "name": "stdout",
     "output_type": "stream",
     "text": [
      "Enetr the value of X : 5\n",
      "Enetr the value of y : 5\n",
      "multiplication is 25\n"
     ]
    }
   ],
   "source": [
    "#take input from user\n",
    "x = int(input(\"Enetr the value of X : \"))\n",
    "y = int(input(\"Enetr the value of y : \"))\n",
    "z = x*y\n",
    "print(\"multiplication is\",z)"
   ]
  },
  {
   "cell_type": "code",
   "execution_count": 16,
   "id": "a320c0f1",
   "metadata": {},
   "outputs": [
    {
     "name": "stdout",
     "output_type": "stream",
     "text": [
      "     Python is a programming language     \n"
     ]
    }
   ],
   "source": [
    "#string methods\n",
    "statement = \"     Python is a programming language     \"\n",
    "print(statement)"
   ]
  },
  {
   "cell_type": "code",
   "execution_count": 17,
   "id": "82c6d7cd",
   "metadata": {},
   "outputs": [
    {
     "name": "stdout",
     "output_type": "stream",
     "text": [
      "     Python is a programming language     \n",
      "     PYTHON IS A PROGRAMMING LANGUAGE     \n"
     ]
    }
   ],
   "source": [
    "#convert string into lower case and upper case \n",
    "statement = \"     Python is a programming language     \"\n",
    "statement.lower()\n",
    "print(statement)\n",
    "statement.upper()\n",
    "print(statement.upper())"
   ]
  },
  {
   "cell_type": "code",
   "execution_count": 18,
   "id": "b6bd12f5",
   "metadata": {
    "scrolled": false
   },
   "outputs": [
    {
     "data": {
      "text/plain": [
       "'     Python Is A Programming Language     '"
      ]
     },
     "execution_count": 18,
     "metadata": {},
     "output_type": "execute_result"
    }
   ],
   "source": [
    "#first letter should be capital in title\n",
    "statement.title()"
   ]
  },
  {
   "cell_type": "code",
   "execution_count": 19,
   "id": "6858972c",
   "metadata": {
    "scrolled": true
   },
   "outputs": [
    {
     "data": {
      "text/plain": [
       "'Python is a programming language     '"
      ]
     },
     "execution_count": 19,
     "metadata": {},
     "output_type": "execute_result"
    }
   ],
   "source": [
    "#left side space removed\n",
    "statement.lstrip()"
   ]
  },
  {
   "cell_type": "code",
   "execution_count": 20,
   "id": "35b3af3e",
   "metadata": {
    "scrolled": true
   },
   "outputs": [
    {
     "data": {
      "text/plain": [
       "'     Python is a programming language'"
      ]
     },
     "execution_count": 20,
     "metadata": {},
     "output_type": "execute_result"
    }
   ],
   "source": [
    "#right side space removed\n",
    "statement.rstrip()"
   ]
  },
  {
   "cell_type": "code",
   "execution_count": 21,
   "id": "c01f407a",
   "metadata": {
    "scrolled": true
   },
   "outputs": [
    {
     "data": {
      "text/plain": [
       "'Python is a programming language'"
      ]
     },
     "execution_count": 21,
     "metadata": {},
     "output_type": "execute_result"
    }
   ],
   "source": [
    "#both side space removed\n",
    "statement.strip()"
   ]
  },
  {
   "cell_type": "code",
   "execution_count": 22,
   "id": "a464bc27",
   "metadata": {},
   "outputs": [
    {
     "data": {
      "text/plain": [
       "'Python Programming Language'"
      ]
     },
     "execution_count": 22,
     "metadata": {},
     "output_type": "execute_result"
    }
   ],
   "source": [
    "#string place holder--->(default)\n",
    "string = \"{} {} {}\".format('Python','Programming','Language')\n",
    "string"
   ]
  },
  {
   "cell_type": "code",
   "execution_count": 23,
   "id": "3e0a3c85",
   "metadata": {},
   "outputs": [
    {
     "data": {
      "text/plain": [
       "'Programming Python Language'"
      ]
     },
     "execution_count": 23,
     "metadata": {},
     "output_type": "execute_result"
    }
   ],
   "source": [
    "#string place holder positional formating--->(index)\n",
    "string = \"{1} {0} {2}\".format('Python','Programming','Language')\n",
    "string"
   ]
  },
  {
   "cell_type": "code",
   "execution_count": 24,
   "id": "d46e8621",
   "metadata": {},
   "outputs": [
    {
     "data": {
      "text/plain": [
       "'Python Programming Language'"
      ]
     },
     "execution_count": 24,
     "metadata": {},
     "output_type": "execute_result"
    }
   ],
   "source": [
    "#string place holder key-word formating---->(key)\n",
    "string = \"{a} {e} {c}\".format(a='Python',e='Programming',c='Language')\n",
    "string"
   ]
  },
  {
   "cell_type": "code",
   "execution_count": 25,
   "id": "55723589",
   "metadata": {},
   "outputs": [
    {
     "name": "stdout",
     "output_type": "stream",
     "text": [
      "Hello,My nmae is Dhruv and I am registrated for code unnati program 2.O\n"
     ]
    }
   ],
   "source": [
    "#f-string formating method\n",
    "name = \"Dhruv\"\n",
    "course = 'code unnati program 2.O'\n",
    "print(f\"Hello,My nmae is {name} and I am registrated for {course}\")"
   ]
  },
  {
   "cell_type": "code",
   "execution_count": 26,
   "id": "e6d25758",
   "metadata": {},
   "outputs": [],
   "source": [
    "#sring slicing\n",
    "str1 = \"FACE\""
   ]
  },
  {
   "cell_type": "code",
   "execution_count": 27,
   "id": "ea3b1bc1",
   "metadata": {},
   "outputs": [
    {
     "data": {
      "text/plain": [
       "'F'"
      ]
     },
     "execution_count": 27,
     "metadata": {},
     "output_type": "execute_result"
    }
   ],
   "source": [
    "str1[0]"
   ]
  },
  {
   "cell_type": "code",
   "execution_count": 28,
   "id": "c129e13b",
   "metadata": {},
   "outputs": [
    {
     "data": {
      "text/plain": [
       "'FA'"
      ]
     },
     "execution_count": 28,
     "metadata": {},
     "output_type": "execute_result"
    }
   ],
   "source": [
    "str1[0:2]"
   ]
  },
  {
   "cell_type": "code",
   "execution_count": 29,
   "id": "02ab416f",
   "metadata": {},
   "outputs": [
    {
     "data": {
      "text/plain": [
       "'ECAF'"
      ]
     },
     "execution_count": 29,
     "metadata": {},
     "output_type": "execute_result"
    }
   ],
   "source": [
    "str1[::-1]"
   ]
  },
  {
   "cell_type": "code",
   "execution_count": 30,
   "id": "a19addc4",
   "metadata": {},
   "outputs": [
    {
     "data": {
      "text/plain": [
       "'FACE'"
      ]
     },
     "execution_count": 30,
     "metadata": {},
     "output_type": "execute_result"
    }
   ],
   "source": [
    "str1[::1]"
   ]
  },
  {
   "cell_type": "code",
   "execution_count": 31,
   "id": "617e8eac",
   "metadata": {},
   "outputs": [
    {
     "data": {
      "text/plain": [
       "'FAC'"
      ]
     },
     "execution_count": 31,
     "metadata": {},
     "output_type": "execute_result"
    }
   ],
   "source": [
    "str1[-4:-1]"
   ]
  },
  {
   "cell_type": "code",
   "execution_count": 32,
   "id": "59b9ce31",
   "metadata": {},
   "outputs": [
    {
     "name": "stdout",
     "output_type": "stream",
     "text": [
      "['parul', 32, 'Bharat', 45.5, 'Vadodara', 99]\n"
     ]
    }
   ],
   "source": [
    "#List\n",
    "list = [\"parul\",32,\"Bharat\",45.5,\"Vadodara\",99]\n",
    "print(list)"
   ]
  },
  {
   "cell_type": "code",
   "execution_count": 33,
   "id": "415fd1df",
   "metadata": {},
   "outputs": [
    {
     "name": "stdout",
     "output_type": "stream",
     "text": [
      "parul\n"
     ]
    }
   ],
   "source": [
    "#get list value\n",
    "list = [\"parul\",32,\"Bharat\",45.5,\"Vadodara\",99]\n",
    "print(list[0])"
   ]
  },
  {
   "cell_type": "code",
   "execution_count": 34,
   "id": "b4c8b261",
   "metadata": {},
   "outputs": [
    {
     "name": "stdout",
     "output_type": "stream",
     "text": [
      "['parul', 32, 'Bharat', 45.5, 'Vadodara', 99]\n"
     ]
    }
   ],
   "source": [
    "#List slicing\n",
    "list = [\"parul\",32,\"Bharat\",45.5,\"Vadodara\",99]\n",
    "print(list[0:])"
   ]
  },
  {
   "cell_type": "code",
   "execution_count": 35,
   "id": "8d2342d2",
   "metadata": {
    "scrolled": true
   },
   "outputs": [
    {
     "name": "stdout",
     "output_type": "stream",
     "text": [
      "['parul', 32]\n"
     ]
    }
   ],
   "source": [
    "#List slicing\n",
    "list = [\"parul\",32,\"Bharat\",45.5,\"Vadodara\",99]\n",
    "print(list[0:2])"
   ]
  },
  {
   "cell_type": "code",
   "execution_count": 36,
   "id": "7755ed89",
   "metadata": {
    "scrolled": true
   },
   "outputs": [
    {
     "name": "stdout",
     "output_type": "stream",
     "text": [
      "['parul', 'Bharat', 'Vadodara']\n"
     ]
    }
   ],
   "source": [
    "#List skip index\n",
    "list = [\"parul\",32,\"Bharat\",45.5,\"Vadodara\",99]\n",
    "print(list[::2])"
   ]
  },
  {
   "cell_type": "code",
   "execution_count": 37,
   "id": "0c838b27",
   "metadata": {
    "scrolled": true
   },
   "outputs": [
    {
     "name": "stdout",
     "output_type": "stream",
     "text": [
      "['apple', 'banana', 'cherry', 'orange']\n"
     ]
    }
   ],
   "source": [
    "#Add value in list\n",
    "fruits = [\"apple\",\"banana\",\"cherry\"]\n",
    "fruits.append(\"orange\")\n",
    "print(fruits)"
   ]
  },
  {
   "cell_type": "code",
   "execution_count": 38,
   "id": "0bb2913e",
   "metadata": {},
   "outputs": [
    {
     "name": "stdout",
     "output_type": "stream",
     "text": [
      "['apple', 'banana', 'cherry', 'Ford', 'BMW', 'Volvo']\n"
     ]
    }
   ],
   "source": [
    "#Extend method\n",
    "fruits = [\"apple\",\"banana\",\"cherry\"]\n",
    "car = [\"Ford\",\"BMW\",\"Volvo\"]\n",
    "fruits.extend(car)\n",
    "print(fruits)"
   ]
  },
  {
   "cell_type": "code",
   "execution_count": 39,
   "id": "f1c1c4c3",
   "metadata": {
    "scrolled": true
   },
   "outputs": [
    {
     "name": "stdout",
     "output_type": "stream",
     "text": [
      "['orange', 'apple', 'banana', 'cherry']\n"
     ]
    }
   ],
   "source": [
    "#insert method\n",
    "fruits = [\"apple\",\"banana\",\"cherry\"]\n",
    "fruits.insert(0,\"orange\")\n",
    "print(fruits)"
   ]
  },
  {
   "cell_type": "code",
   "execution_count": 40,
   "id": "b22448b7",
   "metadata": {
    "scrolled": false
   },
   "outputs": [
    {
     "name": "stdout",
     "output_type": "stream",
     "text": [
      "['apple', 'banana', 'cherry']\n"
     ]
    }
   ],
   "source": [
    "#pop method\n",
    "fruits = [\"apple\",\"banana\",\"banana\",\"cherry\"]\n",
    "fruits.pop(1)\n",
    "print(fruits)"
   ]
  },
  {
   "cell_type": "code",
   "execution_count": 41,
   "id": "8ae3ca66",
   "metadata": {
    "scrolled": false
   },
   "outputs": [
    {
     "name": "stdout",
     "output_type": "stream",
     "text": [
      "['apple', 'banana', 'cherry']\n"
     ]
    }
   ],
   "source": [
    "#remove method\n",
    "#If same value occur then it will delete first value\n",
    "fruits = [\"apple\",\"banana\",\"banana\",\"cherry\"]\n",
    "fruits.remove(\"banana\")\n",
    "print(fruits)\n"
   ]
  },
  {
   "cell_type": "code",
   "execution_count": 42,
   "id": "7a38aea0",
   "metadata": {},
   "outputs": [
    {
     "name": "stdout",
     "output_type": "stream",
     "text": [
      "['BMW', 'Ford', 'Volvo']\n"
     ]
    }
   ],
   "source": [
    "#sort method (Alphbet order)\n",
    "car = [\"Ford\",\"BMW\",\"Volvo\"]\n",
    "car.sort()\n",
    "print(car)"
   ]
  },
  {
   "cell_type": "code",
   "execution_count": 43,
   "id": "40b32d78",
   "metadata": {},
   "outputs": [
    {
     "name": "stdout",
     "output_type": "stream",
     "text": [
      "Enetr the word: Hello i'm Dhruv\n"
     ]
    },
    {
     "data": {
      "text/plain": [
       "['Hello', \"i'm\", 'Dhruv']"
      ]
     },
     "execution_count": 43,
     "metadata": {},
     "output_type": "execute_result"
    }
   ],
   "source": [
    "#spilt method\n",
    "text = input(\"Enetr the word: \")\n",
    "text.split()"
   ]
  },
  {
   "cell_type": "code",
   "execution_count": 44,
   "id": "531e3b57",
   "metadata": {},
   "outputs": [
    {
     "name": "stdout",
     "output_type": "stream",
     "text": [
      "('parul', 32, 'Bharat', 45.5, 'Vadodara', 99)\n",
      "<class 'tuple'>\n"
     ]
    }
   ],
   "source": [
    "#create tuple (immutable)\n",
    "tup1 = (\"parul\",32,\"Bharat\",45.5,\"Vadodara\",99)\n",
    "print(tup1)\n",
    "print(type(tup1))"
   ]
  },
  {
   "cell_type": "code",
   "execution_count": 45,
   "id": "dbfd1165",
   "metadata": {},
   "outputs": [
    {
     "name": "stdout",
     "output_type": "stream",
     "text": [
      "Vadodara\n"
     ]
    }
   ],
   "source": [
    "#get tuple value\n",
    "tup1 = (\"parul\",32,\"Bharat\",45.5,\"Vadodara\",99)\n",
    "print(tup1[4])"
   ]
  },
  {
   "cell_type": "code",
   "execution_count": 46,
   "id": "4f7212b4",
   "metadata": {},
   "outputs": [
    {
     "name": "stdout",
     "output_type": "stream",
     "text": [
      "('parul', 32, 'Bharat', 45.5, 'Vadodara', 99, 'Python', 87)\n"
     ]
    }
   ],
   "source": [
    "#concatenate(+)\n",
    "tup1 = (\"parul\",32,\"Bharat\",45.5,\"Vadodara\",99)\n",
    "tup2 = (\"Python\",87)\n",
    "tup3 = tup1 + tup2\n",
    "print(tup3)"
   ]
  },
  {
   "cell_type": "code",
   "execution_count": 47,
   "id": "aa021d18",
   "metadata": {},
   "outputs": [
    {
     "name": "stdout",
     "output_type": "stream",
     "text": [
      "('parul', 32, 'Bharat', 45.5, 'Vadodara', 99, 'Python', 87, 'parul', 32, 'Bharat', 45.5, 'Vadodara', 99, 'Python', 87, 'parul', 32, 'Bharat', 45.5, 'Vadodara', 99, 'Python', 87)\n"
     ]
    }
   ],
   "source": [
    "#raplication(*)\n",
    "tup1 = (\"parul\",32,\"Bharat\",45.5,\"Vadodara\",99)\n",
    "tup2 = (\"Python\",87)\n",
    "tup3 = tup1 + tup2\n",
    "print(tup3*3)"
   ]
  },
  {
   "cell_type": "code",
   "execution_count": 48,
   "id": "88f028d0",
   "metadata": {},
   "outputs": [
    {
     "ename": "NameError",
     "evalue": "name 'tup1' is not defined",
     "output_type": "error",
     "traceback": [
      "\u001b[1;31m---------------------------------------------------------------------------\u001b[0m",
      "\u001b[1;31mNameError\u001b[0m                                 Traceback (most recent call last)",
      "Cell \u001b[1;32mIn[48], line 4\u001b[0m\n\u001b[0;32m      2\u001b[0m tup1 \u001b[38;5;241m=\u001b[39m (\u001b[38;5;124m\"\u001b[39m\u001b[38;5;124mparul\u001b[39m\u001b[38;5;124m\"\u001b[39m,\u001b[38;5;241m32\u001b[39m,\u001b[38;5;124m\"\u001b[39m\u001b[38;5;124mBharat\u001b[39m\u001b[38;5;124m\"\u001b[39m,\u001b[38;5;241m45.5\u001b[39m,\u001b[38;5;124m\"\u001b[39m\u001b[38;5;124mVadodara\u001b[39m\u001b[38;5;124m\"\u001b[39m,\u001b[38;5;241m99\u001b[39m)\n\u001b[0;32m      3\u001b[0m \u001b[38;5;28;01mdel\u001b[39;00m tup1\n\u001b[1;32m----> 4\u001b[0m \u001b[38;5;28mprint\u001b[39m(tup1)\n",
      "\u001b[1;31mNameError\u001b[0m: name 'tup1' is not defined"
     ]
    }
   ],
   "source": [
    "#delete entire tuple\n",
    "tup1 = (\"parul\",32,\"Bharat\",45.5,\"Vadodara\",99)\n",
    "del tup1\n",
    "print(tup1)"
   ]
  },
  {
   "cell_type": "code",
   "execution_count": null,
   "id": "344e882f",
   "metadata": {},
   "outputs": [],
   "source": [
    "#count method\n",
    "numbers = (1,3,7,8,7,5,4,6,8,5)\n",
    "x = numbers.count(5)\n",
    "print(x)"
   ]
  },
  {
   "cell_type": "code",
   "execution_count": null,
   "id": "f29cddda",
   "metadata": {},
   "outputs": [],
   "source": [
    "#index method\n",
    "numbers = (1,3,7,8,7,5,4,6,8,5)\n",
    "x = numbers.index(5)\n",
    "print(x)"
   ]
  },
  {
   "cell_type": "code",
   "execution_count": null,
   "id": "f85dfb96",
   "metadata": {},
   "outputs": [],
   "source": [
    "#create dictinary\n",
    "cars = {\n",
    "    \"brand\" : \"Mahindra\",\n",
    "    \"model\" : \"Thar\",\n",
    "    \"year\"  : 2010\n",
    "}\n",
    "print(cars)\n",
    "print(type(cars))"
   ]
  },
  {
   "cell_type": "code",
   "execution_count": null,
   "id": "74f3ad5d",
   "metadata": {},
   "outputs": [],
   "source": [
    "#Access with key dictinary\n",
    "cars = {\n",
    "    \"brand\" : \"Mahindra\",\n",
    "    \"model\" : \"Thar\",\n",
    "    \"year\"  : 2010\n",
    "}\n",
    "print(cars[\"model\"])"
   ]
  },
  {
   "cell_type": "code",
   "execution_count": null,
   "id": "6d426686",
   "metadata": {
    "scrolled": true
   },
   "outputs": [],
   "source": [
    "#print only key values\n",
    "cars = {\n",
    "    \"brand\" : \"Mahindra\",\n",
    "    \"model\" : \"Thar\",\n",
    "    \"year\"  : 2010\n",
    "}\n",
    "print(cars.keys())"
   ]
  },
  {
   "cell_type": "code",
   "execution_count": null,
   "id": "70ae8724",
   "metadata": {
    "scrolled": true
   },
   "outputs": [],
   "source": [
    "#print only values \n",
    "cars = {\n",
    "    \"brand\" : \"Mahindra\",\n",
    "    \"model\" : \"Thar\",\n",
    "    \"year\"  : 2010\n",
    "}\n",
    "print(cars.values())"
   ]
  },
  {
   "cell_type": "code",
   "execution_count": null,
   "id": "66dd6ca6",
   "metadata": {
    "scrolled": true
   },
   "outputs": [],
   "source": [
    "#print only both key and values\n",
    "cars = {\n",
    "    \"brand\" : \"Mahindra\",\n",
    "    \"model\" : \"Thar\",\n",
    "    \"year\"  : 2010\n",
    "}\n",
    "print(cars.items())"
   ]
  },
  {
   "cell_type": "code",
   "execution_count": null,
   "id": "957f455d",
   "metadata": {
    "scrolled": false
   },
   "outputs": [],
   "source": [
    "#update method in dictionary\n",
    "cars = {\n",
    "    \"brand\" : \"Mahindra\",\n",
    "    \"model\" : \"Thar\",\n",
    "    \"year\"  : 2010\n",
    "}\n",
    "cars.update({\"year\": 2012})\n",
    "print(cars)"
   ]
  },
  {
   "cell_type": "code",
   "execution_count": null,
   "id": "262468ce",
   "metadata": {
    "scrolled": true
   },
   "outputs": [],
   "source": [
    "#adding values in dictionary\n",
    "cars = {\n",
    "    \"brand\" : \"Mahindra\",\n",
    "    \"model\" : \"Thar\",\n",
    "    \"year\"  : 2010\n",
    "}\n",
    "cars[\"color\"] = \"black\"\n",
    "print(cars)"
   ]
  },
  {
   "cell_type": "code",
   "execution_count": null,
   "id": "c5058401",
   "metadata": {
    "scrolled": true
   },
   "outputs": [],
   "source": [
    "#removing values in dictionary\n",
    "cars = {\n",
    "    \"brand\" : \"Mahindra\",\n",
    "    \"model\" : \"Thar\",\n",
    "    \"year\"  : 2010\n",
    "}\n",
    "cars.pop(\"model\")\n",
    "print(cars)"
   ]
  },
  {
   "cell_type": "code",
   "execution_count": null,
   "id": "2c6a2b0d",
   "metadata": {
    "scrolled": true
   },
   "outputs": [],
   "source": [
    "#creating set1\n",
    "sub1 = {\"Physics\",\"Hindi\",\"Chemistry\",\"Maths\",\"Hindi\"}\n",
    "print(sub1)\n",
    "print(type(sub1))"
   ]
  },
  {
   "cell_type": "code",
   "execution_count": null,
   "id": "172238ba",
   "metadata": {
    "scrolled": true
   },
   "outputs": [],
   "source": [
    "#creating set2\n",
    "sub1 = {\"Physics\",\"Hindi\",\"Chemistry\",\"Maths\",\"Hindi\",\"English\"}\n",
    "sub2 = {\"History\",\"Social Science\",\"Biology\",\"Hindi\"}\n",
    "print(sub2)"
   ]
  },
  {
   "cell_type": "code",
   "execution_count": null,
   "id": "7524f80a",
   "metadata": {
    "scrolled": false
   },
   "outputs": [],
   "source": [
    "#union of two sets--->(pipe sysmbol)\n",
    "sub1 = {\"Physics\",\"Hindi\",\"Chemistry\",\"Maths\",\"Hindi\",\"English\"}\n",
    "sub2 = {\"History\",\"Social Science\",\"Biology\",\"Hindi\"}\n",
    "sub1|sub2  #sub1.union(sub2)"
   ]
  },
  {
   "cell_type": "code",
   "execution_count": null,
   "id": "cb816689",
   "metadata": {
    "scrolled": true
   },
   "outputs": [],
   "source": [
    "#union of two sets--->(union method)\n",
    "sub1 = {\"Physics\",\"Hindi\",\"Chemistry\",\"Maths\",\"Hindi\",\"English\"}\n",
    "sub2 = {\"History\",\"Social Science\",\"Biology\",\"Hindi\"}\n",
    "sub1.union(sub2)"
   ]
  },
  {
   "cell_type": "code",
   "execution_count": null,
   "id": "a362bba8",
   "metadata": {
    "scrolled": false
   },
   "outputs": [],
   "source": [
    "#intersection of two sets\n",
    "sub1 = {\"Physics\",\"Hindi\",\"Chemistry\",\"Maths\",\"Hindi\",\"English\"}\n",
    "sub2 = {\"History\",\"Social Science\",\"Biology\",\"Hindi\"}\n",
    "sub1.intersection(sub2)"
   ]
  },
  {
   "cell_type": "code",
   "execution_count": null,
   "id": "405ac25f",
   "metadata": {},
   "outputs": [],
   "source": [
    "#len methods\n",
    "fruits = [\"apple\",\"banana\",\"cherry\"]\n",
    "len(fruits)"
   ]
  },
  {
   "cell_type": "code",
   "execution_count": null,
   "id": "2ef3ff52",
   "metadata": {},
   "outputs": [],
   "source": [
    "#sort method in dictionary\n",
    "theater = {\n",
    "    \"Movie\" : \"Pushpa\",\n",
    "    \"Actor\" : \"Allu Arjun\",\n",
    "    \"Year\"  : 2021\n",
    "}\n",
    "sorted(theater)"
   ]
  },
  {
   "cell_type": "code",
   "execution_count": null,
   "id": "48246162",
   "metadata": {},
   "outputs": [],
   "source": [
    "#max method\n",
    "numbers = (1,3,7,8,7,5,4,6,8,5)\n",
    "max(numbers)"
   ]
  },
  {
   "cell_type": "code",
   "execution_count": null,
   "id": "34d09601",
   "metadata": {},
   "outputs": [],
   "source": [
    "#min method\n",
    "numbers = (1,3,7,8,7,5,4,6,8,5)\n",
    "min(numbers)"
   ]
  },
  {
   "cell_type": "code",
   "execution_count": null,
   "id": "246c136e",
   "metadata": {},
   "outputs": [],
   "source": [
    "#sum method\n",
    "numbers = (1,3,7,8,7,5,4,6,8,5)\n",
    "sum(numbers)"
   ]
  },
  {
   "cell_type": "code",
   "execution_count": null,
   "id": "cbd21ce8",
   "metadata": {},
   "outputs": [],
   "source": [
    "#returns a methods in datatype\n",
    "dir(list)"
   ]
  },
  {
   "cell_type": "code",
   "execution_count": null,
   "id": "93610561",
   "metadata": {
    "scrolled": true
   },
   "outputs": [],
   "source": [
    "#returns a methods in string\n",
    "dir(str)"
   ]
  },
  {
   "cell_type": "code",
   "execution_count": null,
   "id": "087492d1",
   "metadata": {},
   "outputs": [],
   "source": [
    "#type casting\n",
    "n = 10 # Integer\n",
    "n = float(n) # Converted to float\n",
    "print(type(n))\n",
    "print(n)"
   ]
  },
  {
   "cell_type": "code",
   "execution_count": null,
   "id": "de50183e",
   "metadata": {},
   "outputs": [],
   "source": [
    "#type casting\n",
    "n = 10 # Integer\n",
    "n = str(n) # Converted to string\n",
    "print(type(n))\n",
    "print(n)"
   ]
  },
  {
   "cell_type": "code",
   "execution_count": null,
   "id": "f4b73885",
   "metadata": {},
   "outputs": [],
   "source": [
    "# type casting list to tuple\n",
    "fruits = [\"apple\",\"banana\",\"cherry\"] # List\n",
    "print(type(fruits))\n",
    "\n",
    "fruits = tuple(fruits) # Converted to tuple\n",
    "print(type(fruits))"
   ]
  },
  {
   "cell_type": "markdown",
   "id": "f1a1df82",
   "metadata": {},
   "source": [
    "# Exercise 1"
   ]
  },
  {
   "cell_type": "code",
   "execution_count": null,
   "id": "a0d04857",
   "metadata": {
    "scrolled": true
   },
   "outputs": [],
   "source": [
    "import sys\n",
    "fruits_list = [\"apple\", \"banana\", \"orange\", \"grape\", \"mango\"]\n",
    "additional_fruits = [\"watermelon\", \"kiwi\"]\n",
    "\n",
    "def First_Last():\n",
    "    print(\"First fruit is\",fruits_list[:1])\n",
    "    print(\"Last fruit is\",fruits_list[-1:])\n",
    "    \n",
    "def sec_th():\n",
    "    print(\"Second fruit is\",fruits_list[1:2])\n",
    "    print(\"Third fruit is\",fruits_list[2:3])\n",
    "\n",
    "def count_fruits():\n",
    "    F = len(fruits_list)\n",
    "    print(\"Total fruits are\",F)\n",
    "\n",
    "def replace_fruit():\n",
    "    fruits_list[2] = \"Pear\"\n",
    "    print(fruits_list)\n",
    "    fruits_list[2] = \"orange\"\n",
    "\n",
    "def cheack():\n",
    "    if \"apple\" in fruits_list:\n",
    "        print(\"Apple is present in the list\")\n",
    "    else:\n",
    "        print(\"Apple is not present in the list\")\n",
    "\n",
    "def remove():\n",
    "    fruits_list.remove(\"banana\")\n",
    "    fruits_list.remove(\"mango\")\n",
    "    print(fruits_list)\n",
    "\n",
    "def Concatenate():\n",
    "    both = fruits_list + additional_fruits\n",
    "    print(\"Concatenate :-\",both)\n",
    "\n",
    "def sort():\n",
    "    fruits_list.sort()\n",
    "    print(fruits_list)\n",
    "\n",
    "def count_kiwi():\n",
    "    print(\"kiwi :- \",fruits_list.count(\"kiwi\"))\n",
    "\n",
    "while(True):\n",
    "    fruits_list = [\"apple\", \"banana\", \"orange\", \"grape\", \"mango\"]\n",
    "    additional_fruits = [\"watermelon\", \"kiwi\"]\n",
    "\n",
    "    print(\"............................................................................\")\n",
    "    print(\"Fruits_list       :-\",fruits_list)\n",
    "    print(\"Additional_fruits :-\",additional_fruits)\n",
    "    print(\"......Fruits manu......\",\n",
    "          \"\\n1.Get First and last fruit\",\n",
    "          \"\\n2.Get Second and third fruit\",\n",
    "          \"\\n3.Total no of fruits\",\n",
    "          \"\\n4.Replace third fruit with pear\",\n",
    "          \"\\n5.Check if apple is present in the fruits_list and print the result\",\n",
    "          \"\\n6.Remove banana and the last fruit from the list\",\n",
    "          \"\\n7.Concatenate (fruits_list & additional_fruits)\",\n",
    "          \"\\n8.Sort the fruits_list in alphabetical order\",\n",
    "          \"\\n9.Count the number of times kiwi appears in the fruits_list\",\n",
    "          \"\\n10.Exit the code.....\"\n",
    ")\n",
    "    ch = int(input(\"Enetr your choice: \"))\n",
    "    \n",
    "    if ch==1:\n",
    "        First_Last()\n",
    "    \n",
    "    elif ch==2:\n",
    "        sec_th()\n",
    "    \n",
    "    elif ch==3:\n",
    "        count_fruits()\n",
    "        \n",
    "    elif ch==4:\n",
    "        replace_fruit()\n",
    "    \n",
    "    elif ch==5:\n",
    "        cheack()\n",
    "    \n",
    "    elif ch==6:\n",
    "        remove()\n",
    "\n",
    "    elif ch==7:\n",
    "        Concatenate()\n",
    "\n",
    "    elif ch==8:\n",
    "        sort()\n",
    "    \n",
    "    elif ch==9:\n",
    "        count_kiwi()\n",
    "    \n",
    "    elif ch==10:\n",
    "        sys.exit(0)\n",
    "        \n",
    "    else:\n",
    "        print(\"...Wrong Choice....\")\n",
    "    "
   ]
  }
 ],
 "metadata": {
  "kernelspec": {
   "display_name": "Python 3 (ipykernel)",
   "language": "python",
   "name": "python3"
  },
  "language_info": {
   "codemirror_mode": {
    "name": "ipython",
    "version": 3
   },
   "file_extension": ".py",
   "mimetype": "text/x-python",
   "name": "python",
   "nbconvert_exporter": "python",
   "pygments_lexer": "ipython3",
   "version": "3.11.4"
  }
 },
 "nbformat": 4,
 "nbformat_minor": 5
}
