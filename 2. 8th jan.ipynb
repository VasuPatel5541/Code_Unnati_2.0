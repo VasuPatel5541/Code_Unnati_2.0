{
 "cells": [
  {
   "cell_type": "code",
   "execution_count": 6,
   "id": "7f068a33",
   "metadata": {},
   "outputs": [
    {
     "name": "stdout",
     "output_type": "stream",
     "text": [
      "Enter first number:5\n",
      "Enter second number:5\n",
      "Sum of two numbers is 10\n"
     ]
    }
   ],
   "source": [
    "def sum():\n",
    "    a = int(input(\"Enter first number:\"))\n",
    "    b = int(input(\"Enter second number:\"))\n",
    "    c = a+b\n",
    "    print(\"Sum of two numbers is\",c)\n",
    "    \n",
    "sum()"
   ]
  },
  {
   "cell_type": "code",
   "execution_count": 8,
   "id": "551e06d9",
   "metadata": {},
   "outputs": [
    {
     "name": "stdout",
     "output_type": "stream",
     "text": [
      "Number is positive\n",
      "The if statement is easy\n"
     ]
    }
   ],
   "source": [
    "#check if number is greater than 0\n",
    "number = 10\n",
    "if number > 0:\n",
    "    print(\"Number is positive\")\n",
    "\n",
    "print('The if statement is easy')"
   ]
  },
  {
   "cell_type": "code",
   "execution_count": 9,
   "id": "e8d3c4ed",
   "metadata": {},
   "outputs": [
    {
     "name": "stdout",
     "output_type": "stream",
     "text": [
      "Number is positive.\n",
      "This statement is always executed.\n"
     ]
    }
   ],
   "source": [
    "# if...else condition\n",
    "number = 10\n",
    "if number > 0:\n",
    "    print(\"Number is positive.\")\n",
    "else:\n",
    "    print(\"Number is negative.\")\n",
    "print(\"This statement is always executed.\")"
   ]
  },
  {
   "cell_type": "code",
   "execution_count": 11,
   "id": "efeb7440",
   "metadata": {},
   "outputs": [
    {
     "name": "stdout",
     "output_type": "stream",
     "text": [
      "Enter number:10\n",
      "Number is greater zero.\n"
     ]
    }
   ],
   "source": [
    "#if..elif..else condition\n",
    "num = int(input(\"Enter number:\"))\n",
    "if num > 0:\n",
    "    print(\"Number is greater zero.\")\n",
    "elif num == 0:\n",
    "    print(\"Number is zero.\")\n",
    "else:\n",
    "    print(\"Number is negative\")"
   ]
  },
  {
   "cell_type": "code",
   "execution_count": 12,
   "id": "ddf1f842",
   "metadata": {},
   "outputs": [
    {
     "name": "stdout",
     "output_type": "stream",
     "text": [
      "Hello World\n",
      "Hello World\n",
      "Hello World\n"
     ]
    }
   ],
   "source": [
    "# while loop \n",
    "counter = 0\n",
    "while counter < 3:\n",
    "    print(\"Hello World\")\n",
    "    counter = counter + 1"
   ]
  },
  {
   "cell_type": "code",
   "execution_count": 13,
   "id": "e8c350d4",
   "metadata": {
    "scrolled": true
   },
   "outputs": [
    {
     "name": "stdout",
     "output_type": "stream",
     "text": [
      "0\n",
      "1\n",
      "2\n",
      "3\n",
      "4\n"
     ]
    }
   ],
   "source": [
    "#for loop range(start,stop,step)\n",
    "for i in range(5):\n",
    "    print(i)"
   ]
  },
  {
   "cell_type": "code",
   "execution_count": 16,
   "id": "e2635dc6",
   "metadata": {
    "scrolled": true
   },
   "outputs": [
    {
     "name": "stdout",
     "output_type": "stream",
     "text": [
      "1\n",
      "6\n"
     ]
    }
   ],
   "source": [
    "#for loop range(start,stop,step)\n",
    "for i in range(1,10,5):\n",
    "    print(i)"
   ]
  },
  {
   "cell_type": "code",
   "execution_count": 19,
   "id": "8828667c",
   "metadata": {
    "scrolled": true
   },
   "outputs": [
    {
     "name": "stdout",
     "output_type": "stream",
     "text": [
      "50\n",
      "45\n",
      "40\n",
      "35\n",
      "30\n",
      "25\n",
      "20\n",
      "15\n",
      "10\n",
      "5\n"
     ]
    }
   ],
   "source": [
    "#for loop range(start,stop,step)\n",
    "for i in range(50,0,-5):\n",
    "    print(i)"
   ]
  },
  {
   "cell_type": "code",
   "execution_count": 21,
   "id": "b06b61e7",
   "metadata": {
    "scrolled": true
   },
   "outputs": [
    {
     "name": "stdout",
     "output_type": "stream",
     "text": [
      "10\n",
      "9\n",
      "8\n",
      "7\n",
      "6\n",
      "5\n",
      "4\n",
      "3\n",
      "2\n",
      "1\n"
     ]
    }
   ],
   "source": [
    "#for loop decremental range(start,stop,step)\n",
    "for i in range(10,0,-1):\n",
    "    print(i)"
   ]
  },
  {
   "cell_type": "code",
   "execution_count": 22,
   "id": "0bfd0588",
   "metadata": {},
   "outputs": [
    {
     "name": "stdout",
     "output_type": "stream",
     "text": [
      "p\n",
      "y\n",
      "t\n",
      "h\n",
      "o\n",
      "n\n"
     ]
    }
   ],
   "source": [
    "# loop to print letter\n",
    "for letter in \"python\":\n",
    "    print(letter)"
   ]
  },
  {
   "cell_type": "code",
   "execution_count": 25,
   "id": "de3c21bd",
   "metadata": {},
   "outputs": [
    {
     "name": "stdout",
     "output_type": "stream",
     "text": [
      "apple\n",
      "banana\n",
      "mango\n"
     ]
    }
   ],
   "source": [
    "#creating list of fruits\n",
    "fruits = ['apple', 'banana' , 'mango']\n",
    "for fruit in fruits:\n",
    "    print(fruit)"
   ]
  },
  {
   "cell_type": "code",
   "execution_count": 30,
   "id": "97f2171f",
   "metadata": {},
   "outputs": [
    {
     "name": "stdout",
     "output_type": "stream",
     "text": [
      "10\n"
     ]
    }
   ],
   "source": [
    "# pass statement\n",
    "n = 9\n",
    "if n > 10:\n",
    "    pass\n",
    "else:\n",
    "    n = n+1\n",
    "    print(n)"
   ]
  },
  {
   "cell_type": "code",
   "execution_count": 29,
   "id": "b29b345d",
   "metadata": {},
   "outputs": [
    {
     "name": "stdout",
     "output_type": "stream",
     "text": [
      "1\n",
      "2\n",
      "3\n"
     ]
    }
   ],
   "source": [
    "# break statement\n",
    "i = 1\n",
    "while i < 9:\n",
    "    print(i)\n",
    "    if i == 3:\n",
    "        break\n",
    "    i+=1"
   ]
  },
  {
   "cell_type": "code",
   "execution_count": 2,
   "id": "d71918b5",
   "metadata": {},
   "outputs": [
    {
     "name": "stdout",
     "output_type": "stream",
     "text": [
      "1 2 4 5 6 7 8 9 10 "
     ]
    }
   ],
   "source": [
    "# continue statement\n",
    "i =0\n",
    "while i < 10:\n",
    "    i+=1\n",
    "    if i==3:\n",
    "        continue\n",
    "    print(i,end=\" \")"
   ]
  },
  {
   "cell_type": "markdown",
   "id": "246e5822",
   "metadata": {},
   "source": [
    "# Exercise 1"
   ]
  },
  {
   "cell_type": "code",
   "execution_count": 49,
   "id": "385da1c8",
   "metadata": {},
   "outputs": [
    {
     "name": "stdout",
     "output_type": "stream",
     "text": [
      "Total amount is: 140\n"
     ]
    }
   ],
   "source": [
    "# Exercise\n",
    "def calculate_price(items,prices):\n",
    "    if len(items) != len(prices):\n",
    "        print(\"Error\")\n",
    "    amount = 0\n",
    "    for price in prices:\n",
    "        amount += price\n",
    "    return amount\n",
    "def discounted(items,prices,discounts):\n",
    "    if len(items) != len(prices):\n",
    "        print(\"Error\")\n",
    "    tot = 0\n",
    "    for price,discounts in zip(prices, discounts):\n",
    "        tot += price * (1-discounts)\n",
    "    return tot\n",
    "        \n",
    "items = ['Apple' , 'Banana' , 'Pear' , 'Cherry']\n",
    "prices = [20 , 10, 50,60]\n",
    "discounts = [0.1 , 0 , 0.1, 0]\n",
    "total = calculate_price(items,prices)\n",
    "print('Total amount is:',total)\n",
    "disc = discounted(items,prices,discounts)\n",
    "print(\"Discounted price:\",disc)"
   ]
  },
  {
   "cell_type": "code",
   "execution_count": 51,
   "id": "84c649f3",
   "metadata": {},
   "outputs": [
    {
     "name": "stdout",
     "output_type": "stream",
     "text": [
      "110\n"
     ]
    }
   ],
   "source": [
    "#lambda function\n",
    "x = lambda a : a+10\n",
    "print(x(100))"
   ]
  },
  {
   "cell_type": "code",
   "execution_count": 50,
   "id": "0f8fc54a",
   "metadata": {},
   "outputs": [
    {
     "name": "stdout",
     "output_type": "stream",
     "text": [
      "90\n"
     ]
    }
   ],
   "source": [
    "#lambda function\n",
    "x = lambda a,b : (a+10)*b\n",
    "print(x(5,6))"
   ]
  },
  {
   "cell_type": "code",
   "execution_count": 52,
   "id": "77a7d5de",
   "metadata": {},
   "outputs": [
    {
     "name": "stdout",
     "output_type": "stream",
     "text": [
      "Enter the numerator10\n",
      "Enter the denominator5\n",
      "Result: 2.0\n"
     ]
    }
   ],
   "source": [
    "#exception handling\n",
    "try:\n",
    "    numerator = int(input(\"Enter the numerator\"))\n",
    "    denominator = int(input(\"Enter the denominator\"))\n",
    "    result= numerator/denominator\n",
    "    print(\"Result:\",result)\n",
    "except ZeroDivisionError:\n",
    "    print(\"Error:Cannont divided by zero\")\n",
    "except ValueError:\n",
    "    print(\"Error: Please enter valis integers for numerator\")"
   ]
  },
  {
   "cell_type": "code",
   "execution_count": 54,
   "id": "9b599c69",
   "metadata": {},
   "outputs": [
    {
     "name": "stdout",
     "output_type": "stream",
     "text": [
      "Enter a number:5\n",
      "Sqaure of the number is : 25\n"
     ]
    }
   ],
   "source": [
    "try:\n",
    "    number = int(input(\"Enter a number:\"))\n",
    "except ValueError:\n",
    "    print(\"Error: Please enter a valid integer...\")\n",
    "else:\n",
    "    sqaure = number **2\n",
    "    print(\"Sqaure of the number is :\",sqaure)"
   ]
  },
  {
   "cell_type": "code",
   "execution_count": 6,
   "id": "51b69bab",
   "metadata": {},
   "outputs": [
    {
     "name": "stdout",
     "output_type": "stream",
     "text": [
      "hello world\n"
     ]
    }
   ],
   "source": [
    "try:\n",
    "    file= open(\"data.txt\",'r')\n",
    "    content = file.read()\n",
    "    print(content)\n",
    "except FileNotFoundError:\n",
    "    print(\"File not found\")\n",
    "finally:\n",
    "    if 'file' in locals():\n",
    "        file.close()"
   ]
  },
  {
   "cell_type": "code",
   "execution_count": 1,
   "id": "686447a6",
   "metadata": {
    "scrolled": true
   },
   "outputs": [
    {
     "name": "stdout",
     "output_type": "stream",
     "text": [
      "1.24.3\n"
     ]
    }
   ],
   "source": [
    "import numpy as np\n",
    "print(np.__version__)"
   ]
  },
  {
   "cell_type": "code",
   "execution_count": 2,
   "id": "c51856fa",
   "metadata": {},
   "outputs": [
    {
     "name": "stdout",
     "output_type": "stream",
     "text": [
      "int32\n"
     ]
    }
   ],
   "source": [
    "import numpy as np\n",
    "arr = np.array([1,2,3,4])\n",
    "print(arr.dtype)"
   ]
  },
  {
   "cell_type": "code",
   "execution_count": null,
   "id": "146ada18",
   "metadata": {},
   "outputs": [],
   "source": []
  },
  {
   "cell_type": "markdown",
   "id": "0d4ac1be",
   "metadata": {},
   "source": [
    "# Exercise 2"
   ]
  },
  {
   "cell_type": "code",
   "execution_count": null,
   "id": "4682b2ef",
   "metadata": {},
   "outputs": [],
   "source": []
  }
 ],
 "metadata": {
  "kernelspec": {
   "display_name": "Python 3 (ipykernel)",
   "language": "python",
   "name": "python3"
  },
  "language_info": {
   "codemirror_mode": {
    "name": "ipython",
    "version": 3
   },
   "file_extension": ".py",
   "mimetype": "text/x-python",
   "name": "python",
   "nbconvert_exporter": "python",
   "pygments_lexer": "ipython3",
   "version": "3.11.5"
  }
 },
 "nbformat": 4,
 "nbformat_minor": 5
}
